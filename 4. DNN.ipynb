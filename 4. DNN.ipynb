{
 "cells": [
  {
   "cell_type": "code",
   "execution_count": 1,
   "id": "1bf294f5",
   "metadata": {
    "ExecuteTime": {
     "end_time": "2022-03-09T03:30:45.313884Z",
     "start_time": "2022-03-09T03:30:41.403517Z"
    }
   },
   "outputs": [
    {
     "data": {
      "text/plain": [
       "device(type='cuda', index=0)"
      ]
     },
     "execution_count": 1,
     "metadata": {},
     "output_type": "execute_result"
    }
   ],
   "source": [
    "import pandas as pd\n",
    "import numpy as np\n",
    "import pickle\n",
    "\n",
    "from sklearn.model_selection import train_test_split\n",
    "from sklearn.preprocessing import StandardScaler\n",
    "from sklearn.decomposition import PCA\n",
    "\n",
    "from tox21_project import deeplearning as dl\n",
    "from tox21_project import data_preprocessing as dp\n",
    "\n",
    "import torch\n",
    "import torch.nn as nn\n",
    "import torch.nn.functional as F\n",
    "\n",
    "# import warnings\n",
    "# warnings.filterwarnings('ignore')\n",
    "\n",
    "device = torch.device('cuda:0' if torch.cuda.is_available() else 'cpu')\n",
    "device"
   ]
  },
  {
   "cell_type": "markdown",
   "id": "d95389f0",
   "metadata": {},
   "source": [
    "## 1. 数据"
   ]
  },
  {
   "cell_type": "code",
   "execution_count": 2,
   "id": "7671d93b",
   "metadata": {
    "ExecuteTime": {
     "end_time": "2022-03-09T03:30:48.346457Z",
     "start_time": "2022-03-09T03:30:45.315879Z"
    }
   },
   "outputs": [],
   "source": [
    "source_data = pd.read_csv('data/data_dups_removed.csv', index_col=0)\n",
    "descriptors = pd.read_csv('data/molecular_descriptors.csv', index_col=0)\n",
    "fingerprints = pd.read_csv('data/morgan_fingerprints_10.csv', index_col=0)\n",
    "similarity = pd.read_csv('data/similarity_scaffold_known_toxic.csv', index_col=0)"
   ]
  },
  {
   "cell_type": "markdown",
   "id": "20cc122f",
   "metadata": {},
   "source": [
    "### 1.1 数据分割"
   ]
  },
  {
   "cell_type": "markdown",
   "id": "3e1af323",
   "metadata": {},
   "source": [
    "分割原始数据，并获取mask和分割的index"
   ]
  },
  {
   "cell_type": "code",
   "execution_count": 3,
   "id": "e8260954",
   "metadata": {
    "ExecuteTime": {
     "end_time": "2022-03-09T03:30:48.439729Z",
     "start_time": "2022-03-09T03:30:48.347327Z"
    }
   },
   "outputs": [],
   "source": [
    "source_features = ['FW','SMILES']\n",
    "targets = ['SR-HSE','NR-AR', 'SR-ARE', 'NR-Aromatase', 'NR-ER-LBD', 'NR-AhR', 'SR-MMP',\\\n",
    "       'NR-ER', 'NR-PPAR-gamma', 'SR-p53', 'SR-ATAD5', 'NR-AR-LBD']\n",
    "\n",
    "raw_y = source_data[targets]\n",
    "raw_X = source_data[source_features]\n",
    "\n",
    "null_mask = np.array(np.logical_not(raw_y.isnull().values), int)\n",
    "raw_y = raw_y.fillna(0.0)\n",
    "mask_df = pd.DataFrame(null_mask, columns=[str(i) + '_mask' for i in targets], index=raw_y.index)\n",
    "raw_y = pd.concat([raw_y, mask_df], axis=1)\n",
    "\n",
    "test_size = 0.2\n",
    "train_X_source, test_X_source, train_y, test_y = train_test_split(raw_X, raw_y, test_size=test_size, random_state=42)\n",
    "\n",
    "train_index = train_X_source.index\n",
    "test_index = test_X_source.index"
   ]
  },
  {
   "cell_type": "markdown",
   "id": "6855ccd4",
   "metadata": {},
   "source": [
    "确保所需文件的index都相同，方便下面数据分割用index来索引"
   ]
  },
  {
   "cell_type": "code",
   "execution_count": 4,
   "id": "dc02c5eb",
   "metadata": {
    "ExecuteTime": {
     "end_time": "2022-03-09T03:30:48.455894Z",
     "start_time": "2022-03-09T03:30:48.442718Z"
    }
   },
   "outputs": [
    {
     "data": {
      "text/plain": [
       "[True, True, True]"
      ]
     },
     "execution_count": 4,
     "metadata": {},
     "output_type": "execute_result"
    }
   ],
   "source": [
    "[(source_data.index == x.index).all() for x in [descriptors, fingerprints, similarity]]"
   ]
  },
  {
   "cell_type": "markdown",
   "id": "f1a5c8c5",
   "metadata": {},
   "source": [
    "缺失值查询，否则下面归一化操作无法进行"
   ]
  },
  {
   "cell_type": "code",
   "execution_count": 5,
   "id": "21adadda",
   "metadata": {
    "ExecuteTime": {
     "end_time": "2022-03-09T03:30:48.501346Z",
     "start_time": "2022-03-09T03:30:48.456893Z"
    }
   },
   "outputs": [
    {
     "data": {
      "text/plain": [
       "[False, False, False]"
      ]
     },
     "execution_count": 5,
     "metadata": {},
     "output_type": "execute_result"
    }
   ],
   "source": [
    "[x.isnull().sum().any() for x in [descriptors, fingerprints, similarity]]"
   ]
  },
  {
   "cell_type": "markdown",
   "id": "2bff0b59",
   "metadata": {},
   "source": [
    "根据index来分割descriptors, fingerprints和similarity"
   ]
  },
  {
   "cell_type": "code",
   "execution_count": 6,
   "id": "199aba50",
   "metadata": {
    "ExecuteTime": {
     "end_time": "2022-03-09T03:30:48.753869Z",
     "start_time": "2022-03-09T03:30:48.502347Z"
    }
   },
   "outputs": [],
   "source": [
    "# descriptors\n",
    "des_col = list(descriptors.columns)[2:]\n",
    "train_X_des = descriptors[des_col].loc[train_index]\n",
    "test_X_des = descriptors[des_col].loc[test_index]\n",
    "\n",
    "# fingerprints\n",
    "fp_col = list(fingerprints.columns)[2:]\n",
    "train_X_fp = fingerprints[fp_col].loc[train_index].values\n",
    "test_X_fp = fingerprints[fp_col].loc[test_index].values\n",
    "\n",
    "# similarity\n",
    "si_col = list(similarity.columns)\n",
    "train_X_si = similarity[si_col].loc[train_index]\n",
    "test_X_si = similarity[si_col].loc[test_index]\n",
    "\n",
    "# bow\n",
    "smiles = train_X_source['SMILES']\n",
    "bow = dp.BagOfWords(smiles)\n",
    "train_X_bow = bow.fit()\n",
    "test_X_bow = bow.transform(test_X_source['SMILES'])\n",
    "\n",
    "# y和mask\n",
    "train_y, train_mask = train_y[targets], train_y[mask_df.columns]\n",
    "test_y, test_mask = test_y[targets], test_y[mask_df.columns]"
   ]
  },
  {
   "cell_type": "markdown",
   "id": "516b98c4",
   "metadata": {},
   "source": [
    "### 1.2 数据工程"
   ]
  },
  {
   "cell_type": "markdown",
   "id": "1c2f76a4",
   "metadata": {},
   "source": [
    "fit、transform和fit_transform的区别点击[这里](https://cloud.tencent.com/developer/article/1770568)"
   ]
  },
  {
   "cell_type": "code",
   "execution_count": 7,
   "id": "e0f7ae9e",
   "metadata": {
    "ExecuteTime": {
     "end_time": "2022-03-09T03:30:48.769280Z",
     "start_time": "2022-03-09T03:30:48.755880Z"
    }
   },
   "outputs": [],
   "source": [
    "def transform(train, test, apply):\n",
    "    train_new = apply.fit_transform(train)\n",
    "    test_new = apply.transform(test)\n",
    "    return train_new, test_new"
   ]
  },
  {
   "cell_type": "markdown",
   "id": "1942eb24",
   "metadata": {},
   "source": [
    "数据标准化"
   ]
  },
  {
   "cell_type": "code",
   "execution_count": 8,
   "id": "8cc25fd0",
   "metadata": {
    "ExecuteTime": {
     "end_time": "2022-03-09T03:30:48.815594Z",
     "start_time": "2022-03-09T03:30:48.770047Z"
    }
   },
   "outputs": [],
   "source": [
    "# 标准化descriptors\n",
    "train_X_des, test_X_des = transform(train_X_des, test_X_des, StandardScaler())\n",
    "# 标准化similarity\n",
    "train_X_si, test_X_si = transform(train_X_si, test_X_si, StandardScaler())"
   ]
  },
  {
   "cell_type": "markdown",
   "id": "2e875885",
   "metadata": {},
   "source": [
    "## 2. 模型"
   ]
  },
  {
   "cell_type": "markdown",
   "id": "0ffb0a8c",
   "metadata": {},
   "source": [
    "### 2.1 数据集的获取"
   ]
  },
  {
   "cell_type": "code",
   "execution_count": 9,
   "id": "a8b31b9a",
   "metadata": {
    "ExecuteTime": {
     "end_time": "2022-03-09T03:30:48.831811Z",
     "start_time": "2022-03-09T03:30:48.816596Z"
    }
   },
   "outputs": [],
   "source": [
    "def prepare_data(with_pca, train_X, train_y, train_mask, test_X, test_y, test_mask, batch_size):\n",
    "    \"\"\"PCA降维一半\"\"\"\n",
    "    if with_pca:\n",
    "        pca_shape = train_X.shape[1] // 2\n",
    "        pca = PCA(pca_shape)\n",
    "        train_X = pca.fit_transform(train_X)\n",
    "        test_X = pca.transform(test_X)\n",
    "    return dl.get_data(train_X, train_y, train_mask, test_X, test_y, test_mask, batch_size)"
   ]
  },
  {
   "cell_type": "code",
   "execution_count": 10,
   "id": "f3bf9287",
   "metadata": {
    "ExecuteTime": {
     "end_time": "2022-03-09T03:30:48.847989Z",
     "start_time": "2022-03-09T03:30:48.833709Z"
    }
   },
   "outputs": [],
   "source": [
    "train_X_types = [train_X_des, train_X_fp, train_X_si, train_X_bow]\n",
    "test_X_types = [test_X_des, test_X_fp, test_X_si, test_X_bow]\n",
    "types_names = ['descriptors', 'fingerprint', 'similarity', 'bow']"
   ]
  },
  {
   "cell_type": "markdown",
   "id": "1492b619",
   "metadata": {},
   "source": [
    "### 2.2 训练"
   ]
  },
  {
   "cell_type": "code",
   "execution_count": 11,
   "id": "e988c22c",
   "metadata": {
    "ExecuteTime": {
     "end_time": "2022-03-09T03:30:48.863983Z",
     "start_time": "2022-03-09T03:30:48.849875Z"
    }
   },
   "outputs": [],
   "source": [
    "def run(epochs, layer, type_n, with_pca):\n",
    "    # 数据获取\n",
    "    train_X, test_X = train_X_types[type_n], test_X_types[type_n]\n",
    "    train_set, valid_set, train_loader = prepare_data(with_pca, train_X, train_y, train_mask, test_X, test_y, test_mask, batch_size)\n",
    "    input_size = len(train_set[0][0])\n",
    "    \n",
    "    # 参数设置\n",
    "    net = dl.net(input_size, output_size, layer).to(device)\n",
    "    optimizer = torch.optim.Adam(net.parameters(), lr=4e-5, weight_decay=1e-5)\n",
    "    criterion = nn.BCELoss()\n",
    "    scheduler = torch.optim.lr_scheduler.ReduceLROnPlateau(optimizer, 'min', verbose=False)\n",
    "    early_stop = dl.EarlyStopping()\n",
    "    trainer = dl.Trainer(net, optimizer, criterion, epochs, device, scheduler, early_stop)\n",
    "    if with_pca:\n",
    "        model_name = types_names[type_n] + '_' + '_'.join([str(l) for l in layer]) + '_pca'\n",
    "    else:\n",
    "        model_name = types_names[type_n] + '_' + '_'.join([str(l) for l in layer])\n",
    "    \n",
    "    # 训练\n",
    "    print(f'\\nrunning: {layer}_{types_names[type_n]}_pca_{with_pca}')\n",
    "    res = trainer.train_model(train_loader, valid_set, model_name)\n",
    "    \n",
    "    # 保存数据\n",
    "    res.to_csv('data/dnn_data/' + model_name + '.csv')"
   ]
  },
  {
   "cell_type": "code",
   "execution_count": 12,
   "id": "792a6d39",
   "metadata": {
    "ExecuteTime": {
     "end_time": "2022-03-09T03:30:48.879244Z",
     "start_time": "2022-03-09T03:30:48.864835Z"
    }
   },
   "outputs": [],
   "source": [
    "output_size = 12\n",
    "batch_size = 128\n",
    "layers = [[1024],[1024,2048],[1024,2048,4196]]\n",
    "epochs = 10\n",
    "model_name = 'test_model'"
   ]
  },
  {
   "cell_type": "code",
   "execution_count": 13,
   "id": "d354d963",
   "metadata": {
    "ExecuteTime": {
     "end_time": "2022-03-09T03:49:13.144547Z",
     "start_time": "2022-03-09T03:30:48.880116Z"
    }
   },
   "outputs": [
    {
     "name": "stdout",
     "output_type": "stream",
     "text": [
      "\n",
      "running: [1024]_descriptors_pca_False\n"
     ]
    },
    {
     "data": {
      "application/vnd.jupyter.widget-view+json": {
       "model_id": "18e37ebb34784b96baa27403c0a8f2c4",
       "version_major": 2,
       "version_minor": 0
      },
      "text/plain": [
       "  0%|          | 0/10 [00:00<?, ?it/s]"
      ]
     },
     "metadata": {},
     "output_type": "display_data"
    },
    {
     "name": "stdout",
     "output_type": "stream",
     "text": [
      "Epoch [1/10]----train loss: 30.673275  val loss: 39.209000  AUPRC: 0.202  AUCROC: 0.703\n",
      "\n",
      "running: [1024]_descriptors_pca_True\n"
     ]
    },
    {
     "data": {
      "application/vnd.jupyter.widget-view+json": {
       "model_id": "317e7a46b0cb492aa573fd8a7e93081e",
       "version_major": 2,
       "version_minor": 0
      },
      "text/plain": [
       "  0%|          | 0/10 [00:00<?, ?it/s]"
      ]
     },
     "metadata": {},
     "output_type": "display_data"
    },
    {
     "name": "stdout",
     "output_type": "stream",
     "text": [
      "Epoch [1/10]----train loss: 30.653887  val loss: 39.034790  AUPRC: 0.193  AUCROC: 0.717\n",
      "\n",
      "running: [1024, 2048]_descriptors_pca_False\n"
     ]
    },
    {
     "data": {
      "application/vnd.jupyter.widget-view+json": {
       "model_id": "f5b4dea553f24b7ea88b5c7b1eaa0ccb",
       "version_major": 2,
       "version_minor": 0
      },
      "text/plain": [
       "  0%|          | 0/10 [00:00<?, ?it/s]"
      ]
     },
     "metadata": {},
     "output_type": "display_data"
    },
    {
     "name": "stdout",
     "output_type": "stream",
     "text": [
      "Epoch [1/10]----train loss: 30.521158  val loss: 38.539165  AUPRC: 0.274  AUCROC: 0.766\n",
      "\n",
      "running: [1024, 2048]_descriptors_pca_True\n"
     ]
    },
    {
     "data": {
      "application/vnd.jupyter.widget-view+json": {
       "model_id": "63ecdcd381ae4f2d8144e4c8216c153d",
       "version_major": 2,
       "version_minor": 0
      },
      "text/plain": [
       "  0%|          | 0/10 [00:00<?, ?it/s]"
      ]
     },
     "metadata": {},
     "output_type": "display_data"
    },
    {
     "name": "stdout",
     "output_type": "stream",
     "text": [
      "Epoch [1/10]----train loss: 30.505079  val loss: 38.363289  AUPRC: 0.279  AUCROC: 0.773\n",
      "\n",
      "running: [1024, 2048, 4196]_descriptors_pca_False\n"
     ]
    },
    {
     "data": {
      "application/vnd.jupyter.widget-view+json": {
       "model_id": "987f6bd96ddb4375bf0f5d14f398de8e",
       "version_major": 2,
       "version_minor": 0
      },
      "text/plain": [
       "  0%|          | 0/10 [00:00<?, ?it/s]"
      ]
     },
     "metadata": {},
     "output_type": "display_data"
    },
    {
     "name": "stdout",
     "output_type": "stream",
     "text": [
      "Epoch [1/10]----train loss: 30.534277  val loss: 36.835808  AUPRC: 0.290  AUCROC: 0.782\n",
      "\n",
      "running: [1024, 2048, 4196]_descriptors_pca_True\n"
     ]
    },
    {
     "data": {
      "application/vnd.jupyter.widget-view+json": {
       "model_id": "9dc3fa47a85f4513b83513917dfceac7",
       "version_major": 2,
       "version_minor": 0
      },
      "text/plain": [
       "  0%|          | 0/10 [00:00<?, ?it/s]"
      ]
     },
     "metadata": {},
     "output_type": "display_data"
    },
    {
     "name": "stdout",
     "output_type": "stream",
     "text": [
      "Epoch [1/10]----train loss: 30.690786  val loss: 35.305984  AUPRC: 0.278  AUCROC: 0.778\n",
      "\n",
      "running: [1024]_fingerprint_pca_False\n"
     ]
    },
    {
     "data": {
      "application/vnd.jupyter.widget-view+json": {
       "model_id": "f10c60cfa2884f8bab653f084e66a603",
       "version_major": 2,
       "version_minor": 0
      },
      "text/plain": [
       "  0%|          | 0/10 [00:00<?, ?it/s]"
      ]
     },
     "metadata": {},
     "output_type": "display_data"
    },
    {
     "name": "stdout",
     "output_type": "stream",
     "text": [
      "Epoch [1/10]----train loss: 31.039106  val loss: 40.452213  AUPRC: 0.184  AUCROC: 0.677\n",
      "\n",
      "running: [1024]_fingerprint_pca_True\n"
     ]
    },
    {
     "data": {
      "application/vnd.jupyter.widget-view+json": {
       "model_id": "88eed109af4948db8c9b81e137ebb8d4",
       "version_major": 2,
       "version_minor": 0
      },
      "text/plain": [
       "  0%|          | 0/10 [00:00<?, ?it/s]"
      ]
     },
     "metadata": {},
     "output_type": "display_data"
    },
    {
     "name": "stdout",
     "output_type": "stream",
     "text": [
      "Epoch [1/10]----train loss: 31.229971  val loss: 40.145920  AUPRC: 0.133  AUCROC: 0.632\n",
      "\n",
      "running: [1024, 2048]_fingerprint_pca_False\n"
     ]
    },
    {
     "data": {
      "application/vnd.jupyter.widget-view+json": {
       "model_id": "fffb99491f014896883c47ab8ec5acd6",
       "version_major": 2,
       "version_minor": 0
      },
      "text/plain": [
       "  0%|          | 0/10 [00:00<?, ?it/s]"
      ]
     },
     "metadata": {},
     "output_type": "display_data"
    },
    {
     "name": "stdout",
     "output_type": "stream",
     "text": [
      "Epoch [1/10]----train loss: 31.125540  val loss: 37.221294  AUPRC: 0.194  AUCROC: 0.691\n",
      "\n",
      "running: [1024, 2048]_fingerprint_pca_True\n"
     ]
    },
    {
     "data": {
      "application/vnd.jupyter.widget-view+json": {
       "model_id": "5cb47936c41443d581578ec8de7196c0",
       "version_major": 2,
       "version_minor": 0
      },
      "text/plain": [
       "  0%|          | 0/10 [00:00<?, ?it/s]"
      ]
     },
     "metadata": {},
     "output_type": "display_data"
    },
    {
     "name": "stdout",
     "output_type": "stream",
     "text": [
      "Epoch [1/10]----train loss: 31.229273  val loss: 37.912205  AUPRC: 0.164  AUCROC: 0.676\n",
      "\n",
      "running: [1024, 2048, 4196]_fingerprint_pca_False\n"
     ]
    },
    {
     "data": {
      "application/vnd.jupyter.widget-view+json": {
       "model_id": "cbaab5344e77431a8e64ace1a163582f",
       "version_major": 2,
       "version_minor": 0
      },
      "text/plain": [
       "  0%|          | 0/10 [00:00<?, ?it/s]"
      ]
     },
     "metadata": {},
     "output_type": "display_data"
    },
    {
     "name": "stdout",
     "output_type": "stream",
     "text": [
      "Epoch [1/10]----train loss: 31.003901  val loss: 33.987999  AUPRC: 0.169  AUCROC: 0.697\n",
      "\n",
      "running: [1024, 2048, 4196]_fingerprint_pca_True\n"
     ]
    },
    {
     "data": {
      "application/vnd.jupyter.widget-view+json": {
       "model_id": "83feac9050114f339348c98364968e0b",
       "version_major": 2,
       "version_minor": 0
      },
      "text/plain": [
       "  0%|          | 0/10 [00:00<?, ?it/s]"
      ]
     },
     "metadata": {},
     "output_type": "display_data"
    },
    {
     "name": "stdout",
     "output_type": "stream",
     "text": [
      "Epoch [1/10]----train loss: 30.973513  val loss: 33.273136  AUPRC: 0.199  AUCROC: 0.686\n",
      "\n",
      "running: [1024]_similarity_pca_False\n"
     ]
    },
    {
     "data": {
      "application/vnd.jupyter.widget-view+json": {
       "model_id": "c7a92ccbfc374df490d39c0770567b86",
       "version_major": 2,
       "version_minor": 0
      },
      "text/plain": [
       "  0%|          | 0/10 [00:00<?, ?it/s]"
      ]
     },
     "metadata": {},
     "output_type": "display_data"
    },
    {
     "name": "stdout",
     "output_type": "stream",
     "text": [
      "Epoch [1/10]----train loss: 30.607906  val loss: 39.952042  AUPRC: 0.152  AUCROC: 0.649\n",
      "\n",
      "running: [1024]_similarity_pca_True\n"
     ]
    },
    {
     "data": {
      "application/vnd.jupyter.widget-view+json": {
       "model_id": "91f0d9f12cb84bf587acf400a9119d89",
       "version_major": 2,
       "version_minor": 0
      },
      "text/plain": [
       "  0%|          | 0/10 [00:00<?, ?it/s]"
      ]
     },
     "metadata": {},
     "output_type": "display_data"
    },
    {
     "name": "stdout",
     "output_type": "stream",
     "text": [
      "Epoch [1/10]----train loss: 30.797607  val loss: 40.333721  AUPRC: 0.158  AUCROC: 0.661\n",
      "\n",
      "running: [1024, 2048]_similarity_pca_False\n"
     ]
    },
    {
     "data": {
      "application/vnd.jupyter.widget-view+json": {
       "model_id": "c2b00c1a31e649b09298401f720b0a34",
       "version_major": 2,
       "version_minor": 0
      },
      "text/plain": [
       "  0%|          | 0/10 [00:00<?, ?it/s]"
      ]
     },
     "metadata": {},
     "output_type": "display_data"
    },
    {
     "name": "stdout",
     "output_type": "stream",
     "text": [
      "Epoch [1/10]----train loss: 31.036999  val loss: 39.774479  AUPRC: 0.181  AUCROC: 0.673\n",
      "\n",
      "running: [1024, 2048]_similarity_pca_True\n"
     ]
    },
    {
     "data": {
      "application/vnd.jupyter.widget-view+json": {
       "model_id": "2c5c07b4459e49f4bf95c9e6b2772b58",
       "version_major": 2,
       "version_minor": 0
      },
      "text/plain": [
       "  0%|          | 0/10 [00:00<?, ?it/s]"
      ]
     },
     "metadata": {},
     "output_type": "display_data"
    },
    {
     "name": "stdout",
     "output_type": "stream",
     "text": [
      "Epoch [1/10]----train loss: 31.035490  val loss: 38.689140  AUPRC: 0.168  AUCROC: 0.672\n",
      "\n",
      "running: [1024, 2048, 4196]_similarity_pca_False\n"
     ]
    },
    {
     "data": {
      "application/vnd.jupyter.widget-view+json": {
       "model_id": "b9eb86c3a9ef4cb0b2b0790b5ee5ba58",
       "version_major": 2,
       "version_minor": 0
      },
      "text/plain": [
       "  0%|          | 0/10 [00:00<?, ?it/s]"
      ]
     },
     "metadata": {},
     "output_type": "display_data"
    },
    {
     "name": "stdout",
     "output_type": "stream",
     "text": [
      "Epoch [1/10]----train loss: 31.441854  val loss: 38.809132  AUPRC: 0.176  AUCROC: 0.677\n",
      "\n",
      "running: [1024, 2048, 4196]_similarity_pca_True\n"
     ]
    },
    {
     "data": {
      "application/vnd.jupyter.widget-view+json": {
       "model_id": "178276e59d8548df9b1a58579d799c44",
       "version_major": 2,
       "version_minor": 0
      },
      "text/plain": [
       "  0%|          | 0/10 [00:00<?, ?it/s]"
      ]
     },
     "metadata": {},
     "output_type": "display_data"
    },
    {
     "name": "stdout",
     "output_type": "stream",
     "text": [
      "Epoch [1/10]----train loss: 31.437428  val loss: 38.390938  AUPRC: 0.176  AUCROC: 0.655\n"
     ]
    }
   ],
   "source": [
    "# 网格筛选\n",
    "for i in range(len(train_X_types)):\n",
    "    for layer in layers:\n",
    "        for with_pca in [False, True]:\n",
    "            run(epochs, layer, i, with_pca)"
   ]
  },
  {
   "cell_type": "code",
   "execution_count": null,
   "id": "8512774a",
   "metadata": {},
   "outputs": [],
   "source": []
  }
 ],
 "metadata": {
  "kernelspec": {
   "display_name": "Python 3 (ipykernel)",
   "language": "python",
   "name": "python3"
  },
  "language_info": {
   "codemirror_mode": {
    "name": "ipython",
    "version": 3
   },
   "file_extension": ".py",
   "mimetype": "text/x-python",
   "name": "python",
   "nbconvert_exporter": "python",
   "pygments_lexer": "ipython3",
   "version": "3.9.9"
  }
 },
 "nbformat": 4,
 "nbformat_minor": 5
}
