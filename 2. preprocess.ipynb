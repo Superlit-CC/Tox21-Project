{
  {
   "cell_type": "code",
   "execution_count": 1,
   "id": "72473821",
   "metadata": {
    "ExecuteTime": {
     "end_time": "2022-03-05T06:03:39.001706Z",
     "start_time": "2022-03-05T06:03:33.595174Z"
    }
   },
   "outputs": [],
   "source": [
    "import pandas as pd\n",
    "import numpy as np\n",
    "from tox21_project import data_preprocessing as dp\n",
    "from tqdm import tqdm\n",
    "from rdkit import Chem\n",
    "from rdkit.Chem import AllChem\n",
    "from rdkit import DataStructs\n",
    "\n",
    "# import warnings\n",
    "# warnings.filterwarnings(\"ignore\")"
   ]
  },
  {
   "cell_type": "markdown",
   "id": "fa80d890",
   "metadata": {},
   "source": [
    "### 生成Morgan Fingerprints"
   ]
  },
  {
   "cell_type": "code",
   "execution_count": 2,
   "id": "1ba5a140",
   "metadata": {
    "ExecuteTime": {
     "end_time": "2022-03-05T06:03:39.017423Z",
     "start_time": "2022-03-05T06:03:39.003445Z"
    }
   },
   "outputs": [],
   "source": [
    "def generate_morgan_fingerprints(data:pd.core.frame.DataFrame, radius:int=2) -> str:\n",
    "    print(f'generating morgan fingerprints...\\nradius:{radius}')\n",
    "    # 1. 生成分子指纹X\n",
    "    smiles = data['SMILES']\n",
    "    mf = dp.MorganFingerprints(smiles)\n",
    "    X = mf.transform(radius)\n",
    "    # 此处必须指定index，不然下面concat会有大麻烦\n",
    "    X = pd.DataFrame(X, columns=['fp_' + str(i + 1) for i in range(0, X.shape[1])], index=data.index)\n",
    "    # 2. 将分子指纹按列添加到DataFrame中\n",
    "    df = pd.DataFrame(data[['DSSTox_CID', 'SMILES']])\n",
    "    df = pd.concat([df, X], axis=1)\n",
    "    # 3. 导出为csv\n",
    "    filename = 'data/morgan_fingerprints_' + str(radius) + '.csv'\n",
    "    df.to_csv(filename)\n",
    "    return filename"
   ]
  },
  {
   "cell_type": "markdown",
   "id": "ea982511",
   "metadata": {},
   "source": [
    "### Murcko骨架"
   ]
  },
  {
   "cell_type": "code",
   "execution_count": 3,
   "id": "bbd6fe92",
   "metadata": {
    "ExecuteTime": {
     "end_time": "2022-03-05T06:03:39.033438Z",
     "start_time": "2022-03-05T06:03:39.019418Z"
    }
   },
   "outputs": [],
   "source": [
    "def generate_murckoscaffold(data:pd.core.frame.DataFrame) -> str:\n",
    "    print('generating murcko scaffold...')\n",
    "    # 1. 生成骨架\n",
    "    smiles = data['SMILES']\n",
    "    ms = dp.MurckoScaffold(smiles)\n",
    "    X = ms.transform()\n",
    "    X = pd.DataFrame(X, columns=['MurckoScaffold'], index=data.index) # 只有一列数据也需要加入[]\n",
    "    # 2. 拼接\n",
    "    df = data[['DSSTox_CID', 'SMILES']]\n",
    "    df = pd.concat([df, X], axis=1)\n",
    "    # 3. 导出\n",
    "    filename = 'data/murcko_scaffold.csv'\n",
    "    df.to_csv(filename)\n",
    "    return filename"
   ]
  },
  {
   "cell_type": "markdown",
   "id": "bc918264",
   "metadata": {},
   "source": [
    "### 从Murcko骨架中生成分子指纹"
   ]
  },
  {
   "cell_type": "code",
   "execution_count": 4,
   "id": "9454458f",
   "metadata": {
    "ExecuteTime": {
     "end_time": "2022-03-05T06:03:39.049360Z",
     "start_time": "2022-03-05T06:03:39.037369Z"
    }
   },
   "outputs": [],
   "source": [
    "def generate_morgan_fingerprints_from_murckoscaffold(radius:int=2) -> str:\n",
    "    print('generating morgan fingerprints from murcko scaffold...')\n",
    "    # 1. 生成指纹\n",
    "    data = pd.read_csv('data/murcko_scaffold.csv', index_col=0)\n",
    "    ms_smiles = data['MurckoScaffold'].values\n",
    "    mf = dp.MorganFingerprints(ms_smiles)\n",
    "    X = mf.transform(radius)\n",
    "    X = pd.DataFrame(X, columns=['fp_' + str(i + 1) for i in range(0, X.shape[1])], index=data.index)\n",
    "    # 2. 拼接\n",
    "    df = data[['DSSTox_CID','SMILES','MurckoScaffold']]\n",
    "    df = pd.concat([df, X], axis=1)\n",
    "    # 3. 导出\n",
    "    filename = 'data/morgan_fingerprints_from_murckoscaffold_' + str(radius) + '.csv'\n",
    "    df.to_csv(filename)\n",
    "    return filename"
   ]
  },
  {
   "cell_type": "markdown",
   "id": "ea50e5d4",
   "metadata": {},
   "source": [
    "### 分子描述符"
   ]
  },
  {
   "cell_type": "code",
   "execution_count": 5,
   "id": "fe3126dc",
   "metadata": {
    "ExecuteTime": {
     "end_time": "2022-03-05T06:03:39.065455Z",
     "start_time": "2022-03-05T06:03:39.051365Z"
    }
   },
   "outputs": [],
   "source": [
    "def generate_molecular_descriptors(data:pd.core.frame.DataFrame) -> str:\n",
    "    print('generating molecular descriptors...')\n",
    "    # 1. 取出数据\n",
    "    smiles = data['SMILES']\n",
    "    md = dp.MolecularDescriptors(smiles)\n",
    "    de = md.get_descriptors()\n",
    "    de = pd.DataFrame(de, columns=[str(name) for name, fun in md.descriptors], index=data.index)\n",
    "    # 2. 合并\n",
    "    df = data[['DSSTox_CID', 'SMILES']]\n",
    "    df = pd.concat([df, de], axis=1)\n",
    "    # 3. 导出\n",
    "    filename = 'data/molecular_descriptors.csv'\n",
    "    df.to_csv(filename)\n",
    "    return filename"
   ]
  },
  {
   "cell_type": "markdown",
   "id": "7d6e0776",
   "metadata": {},
   "source": [
    "### 计算与已知毒性的相似度"
   ]
  },
  {
   "cell_type": "code",
   "execution_count": 6,
   "id": "f5f6b3df",
   "metadata": {
    "ExecuteTime": {
     "end_time": "2022-03-05T06:03:39.081410Z",
     "start_time": "2022-03-05T06:03:39.066291Z"
    }
   },
   "outputs": [],
   "source": [
    "def compute_similarity_scaffold_known_toxic(radius:int=2) -> str:\n",
    "    print('compute similarity scaffold known toxic...')\n",
    "    knownToxic = ['C1=CC=C(C=C1)N', 'C1=CC=C(C=C1)CBr', 'C1=CC=C(C=C1)CI', 'C1=CC=C(C=C1)CCl', 'C1=CC=C(C=C1)CF',\n",
    "                 'CNN', 'C1=CC=C(C=C1)[N+](=O)[O-]', 'NN=O', 'C1=CC=C2C(=C1)C=CC3=CC=CC=C32', 'C1=CC(=O)C=CC1=O',\n",
    "                 'C(CCl)SCCCl', 'C(=S)(N)N']\n",
    "    # 1. 生成已知毒物的分子指纹\n",
    "    knownToxic_mf = dp.MorganFingerprints(knownToxic)\n",
    "    knownToxic_mf.transform(radius)\n",
    "    # 2. 生成分子骨架的指纹\n",
    "    scaffold = pd.read_csv('data/murcko_scaffold.csv', index_col=0)\n",
    "    scaffold_mf = dp.MorganFingerprints(scaffold['MurckoScaffold'])\n",
    "    scaffold_mf.transform(radius)\n",
    "    # 3. 计算两个指纹的相似度\n",
    "    res = [[DataStructs.FingerprintSimilarity(tox, scaf) for tox in knownToxic_mf.fingerprints] for scaf in tqdm(scaffold_mf.fingerprints)]\n",
    "    df = pd.DataFrame(res, columns=knownToxic, index=scaffold.index)\n",
    "    # 4. 导出\n",
    "    filename = 'data/similarity_scaffold_known_toxic.csv'\n",
    "    df.to_csv(filename)\n",
    "    return filename"
   ]
  },
  {
   "cell_type": "markdown",
   "id": "4e8fb4b1",
   "metadata": {},
   "source": [
    "### 清理每个文件中全为0或其中包含单个NULL的列"
   ]
  },
  {
   "cell_type": "code",
   "execution_count": 7,
   "id": "237b91d8",
   "metadata": {
    "ExecuteTime": {
     "end_time": "2022-03-05T06:03:39.097462Z",
     "start_time": "2022-03-05T06:03:39.082248Z"
    }
   },
   "outputs": [],
   "source": [
    "def clean_data_zeros_nan(filename) -> None:\n",
    "    print(f'clean data zeros and nan files...\\nfile:{filename}')\n",
    "    df = pd.read_csv(filename, index_col=0)\n",
    "    # 1. 去除全为0的列\n",
    "    res = df.apply(lambda x: (x == 0).all()).to_dict() # 返回column:bool\n",
    "    for k, v in res.items():\n",
    "        if v:\n",
    "            del df[k]\n",
    "    # 2. 去除null列\n",
    "    res = df.apply(lambda x : (x.isnull()).any()).to_dict()\n",
    "    for k, v in res.items():\n",
    "        if v:\n",
    "            del df[k]\n",
    "    df.to_csv(filename)"
   ]
  },
  {
   "cell_type": "markdown",
   "id": "28454f5e",
   "metadata": {},
   "source": [
    "### 主程序"
   ]
  },
  {
   "cell_type": "code",
   "execution_count": 8,
   "id": "05d264b2",
   "metadata": {
    "ExecuteTime": {
     "end_time": "2022-03-05T06:06:01.483016Z",
     "start_time": "2022-03-05T06:03:39.098207Z"
    }
   },
   "outputs": [
    {
     "name": "stdout",
     "output_type": "stream",
     "text": [
      "generating morgan fingerprints...\n",
      "radius:10\n",
      "generating murcko scaffold...\n",
      "generating morgan fingerprints from murcko scaffold...\n",
      "generating molecular descriptors...\n"
     ]
    },
    {
     "name": "stderr",
     "output_type": "stream",
     "text": [
      "100%|██████████████████████████████████████████████████████████████████████████████| 8038/8038 [01:36<00:00, 83.32it/s]\n"
     ]
    },
    {
     "name": "stdout",
     "output_type": "stream",
     "text": [
      "compute similarity scaffold known toxic...\n"
     ]
    },
    {
     "name": "stderr",
     "output_type": "stream",
     "text": [
      "100%|███████████████████████████████████████████████████████████████████████████| 8038/8038 [00:00<00:00, 24066.14it/s]\n"
     ]
    },
    {
     "name": "stdout",
     "output_type": "stream",
     "text": [
      "clean data zeros and nan files...\n",
      "file:data/morgan_fingerprints_10.csv\n",
      "clean data zeros and nan files...\n",
      "file:data/murcko_scaffold.csv\n",
      "clean data zeros and nan files...\n",
      "file:data/morgan_fingerprints_from_murckoscaffold_10.csv\n",
      "clean data zeros and nan files...\n",
      "file:data/molecular_descriptors.csv\n",
      "clean data zeros and nan files...\n",
      "file:data/similarity_scaffold_known_toxic.csv\n"
     ]
    }
   ],
   "source": [
    "data = pd.read_csv('data/data_dups_removed.csv', index_col=0)\n",
    "radius = 10\n",
    "all_files = []\n",
    "\n",
    "# Morgan Fingerprints\n",
    "all_files.append(generate_morgan_fingerprints(data, radius))\n",
    "\n",
    "# Murcko骨架\n",
    "all_files.append(generate_murckoscaffold(data))\n",
    "\n",
    "# 从Murcko骨架中生成分子指纹\n",
    "all_files.append(generate_morgan_fingerprints_from_murckoscaffold(radius))\n",
    "\n",
    "# 分子描述符\n",
    "all_files.append(generate_molecular_descriptors(data))\n",
    "\n",
    "# 计算与已知毒性的相似度\n",
    "all_files.append(compute_similarity_scaffold_known_toxic(radius))\n",
    "\n",
    "# 清理文件数据\n",
    "for file in all_files:\n",
    "    clean_data_zeros_nan(file)"
   ]
  }
 ],
 "metadata": {
  "kernelspec": {
   "display_name": "Python 3 (ipykernel)",
   "language": "python",
   "name": "python3"
  },
  "language_info": {
   "codemirror_mode": {
    "name": "ipython",
    "version": 3
   },
   "file_extension": ".py",
   "mimetype": "text/x-python",
   "name": "python",
   "nbconvert_exporter": "python",
   "pygments_lexer": "ipython3",
   "version": "3.9.9"
  }
 },
 "nbformat": 4,
 "nbformat_minor": 5
}
