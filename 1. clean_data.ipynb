{
 "cells": [
  {
   "cell_type": "code",
   "execution_count": 1,
   "id": "a39d1599",
   "metadata": {
    "ExecuteTime": {
     "end_time": "2022-03-14T12:24:43.779607Z",
     "start_time": "2022-03-14T12:22:06.723506Z"
    },
    "scrolled": true
   },
   "outputs": [
    {
     "data": {
      "application/vnd.jupyter.widget-view+json": {
       "model_id": "11c08b141ed6432b95aedd7f1894d90c",
       "version_major": 2,
       "version_minor": 0
      },
      "text/plain": [
       "  0%|          | 0/3720 [00:00<?, ?it/s]"
      ]
     },
     "metadata": {},
     "output_type": "display_data"
    }
   ],
   "source": [
    "from tox21_project import data_initialization\n",
    "\n",
    "import warnings\n",
    "warnings.filterwarnings(\"ignore\")\n",
    "\n",
    "filename = './data/tox21_10k_data_all.sdf'\n",
    "di = data_initialization.dataInitialization(filename)\n",
    "\n",
    "# 1. 目标列\n",
    "target_columns = ['SR-HSE', 'NR-AR', 'SR-ARE', 'NR-Aromatase', 'NR-ER-LBD', 'NR-AhR', \n",
    "                  'SR-MMP', 'NR-ER', 'NR-PPAR-gamma', 'SR-p53', 'SR-ATAD5', 'NR-AR-LBD']\n",
    "# 2. 清除FW中的括号\n",
    "di.clean_num(['FW'])\n",
    "\n",
    "# 3. 改变数据类型\n",
    "di.change_types(target_columns, float)\n",
    "\n",
    "# 4. 合并重复行\n",
    "di.merge_duplicate_target_rows('DSSTox_CID', target_columns)\n",
    "\n",
    "# 5. 保存数据\n",
    "di.save('./data/data_dups_removed.csv')"
   ]
  }
 ],
 "metadata": {
  "kernelspec": {
   "display_name": "Python 3 (ipykernel)",
   "language": "python",
   "name": "python3"
  },
  "language_info": {
   "codemirror_mode": {
    "name": "ipython",
    "version": 3
   },
   "file_extension": ".py",
   "mimetype": "text/x-python",
   "name": "python",
   "nbconvert_exporter": "python",
   "pygments_lexer": "ipython3",
   "version": "3.9.9"
  }
 },
 "nbformat": 4,
 "nbformat_minor": 5
}
